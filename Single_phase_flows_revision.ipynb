{
  "nbformat": 4,
  "nbformat_minor": 0,
  "metadata": {
    "colab": {
      "provenance": [],
      "authorship_tag": "ABX9TyOxXXoi1pRhc7OIN4YmJKrG",
      "include_colab_link": true
    },
    "kernelspec": {
      "name": "python3",
      "display_name": "Python 3"
    },
    "language_info": {
      "name": "python"
    }
  },
  "cells": [
    {
      "cell_type": "markdown",
      "metadata": {
        "id": "view-in-github",
        "colab_type": "text"
      },
      "source": [
        "<a href=\"https://colab.research.google.com/github/mm002a/Fort-C/blob/master/Single_phase_flows_revision.ipynb\" target=\"_parent\"><img src=\"https://colab.research.google.com/assets/colab-badge.svg\" alt=\"Open In Colab\"/></a>"
      ]
    },
    {
      "cell_type": "code",
      "execution_count": null,
      "metadata": {
        "id": "qudk7_YQg1G7"
      },
      "outputs": [],
      "source": []
    },
    {
      "cell_type": "markdown",
      "source": [
        " So far we have been considering Newtonian fluids.\n",
        "  So far we have been considering {\\bf incompressible Newtonian fluids}.\n",
        "\t\\begin{itemize}\n",
        "\t\\item  Here we have the simplest stress-strain relationship:\n",
        "              $\\tau = \\mu \\frac{du}{dy}$\n",
        "\t\\item This is a reasonable approximation for some common engineering flows.\n",
        "\t\\item These fluids satisfy the Navier-Stokes equations.\n",
        "\t\\end{itemize}\n",
        "\\item A generalisation of this stress-strain relation is due to Herschel and Bulkley (1926).\n",
        "\\item Drilling muds and hydro-carbon gels can be approximated using this approach.\n",
        "\\end{itemize}\n",
        "\n",
        "\\end{sf}"
      ],
      "metadata": {
        "id": "yjMlt_S_bbPd"
      }
    }
  ]
}